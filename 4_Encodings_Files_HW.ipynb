{
 "cells": [
  {
   "cell_type": "markdown",
   "metadata": {},
   "source": [
    "### Большая часть задач требует операций с файлами, поэтому для воспроизводимости результатов работы вашего кода эти файлы нужно создавать\n",
    "\n",
    "### Можете их всех создавать в текущей папке, быстро и удобно это можно сделать таким способом:"
   ]
  },
  {
   "cell_type": "code",
   "execution_count": 1,
   "metadata": {},
   "outputs": [],
   "source": [
    "text = \"\"\"12\\n3\n",
    "4567\n",
    " 8910\n",
    "\"\"\"\n",
    "with open('task_1.1_source', 'w') as f:\n",
    "    f.write(text)"
   ]
  },
  {
   "cell_type": "code",
   "execution_count": 2,
   "metadata": {},
   "outputs": [
    {
     "name": "stdout",
     "output_type": "stream",
     "text": [
      "12\r\n",
      "3\r\n",
      "4567\r\n",
      " 8910\r\n"
     ]
    }
   ],
   "source": [
    "!cat task_1.1_source"
   ]
  },
  {
   "cell_type": "markdown",
   "metadata": {},
   "source": [
    "# Базовый уровень"
   ]
  },
  {
   "cell_type": "markdown",
   "metadata": {},
   "source": [
    "## Задание 1.1\n",
    "\n",
    "Напишите функцию, копирующую файл\n",
    "\n",
    "source_path должен существовать, а отсутствующие промежуточные папки из target_path должны быть созданы\n",
    "\n",
    "Подсказка: можно прочитать исходный файл и записать в новый. \n",
    "\n",
    "Опциональное усложнение: попробуйте написать так, чтобы функция работала и с большими файлами (нужно, чтобы содежимое файла не считывалось полностью в память)"
   ]
  },
  {
   "cell_type": "markdown",
   "metadata": {},
   "source": [
    "* *Импортируем библиотеки*"
   ]
  },
  {
   "cell_type": "code",
   "execution_count": 3,
   "metadata": {
    "collapsed": true
   },
   "outputs": [],
   "source": [
    "import os\n",
    "import chardet"
   ]
  },
  {
   "cell_type": "markdown",
   "metadata": {},
   "source": [
    "* *Создадим функцию для создания всех директорий для итогового файла, если их нет*"
   ]
  },
  {
   "cell_type": "code",
   "execution_count": 4,
   "metadata": {
    "collapsed": true
   },
   "outputs": [],
   "source": [
    "def check_or_create_target_dir(target_file_path):\n",
    "    #разный слэш для разных ОС\n",
    "    local_slash = os.path.join(\" \",\" \").strip()    \n",
    "\n",
    "    #нужно всё кроме названия файла\n",
    "    dir_path = local_slash.join(target_file_path.split(local_slash)[:-1])\n",
    "\n",
    "    if dir_path != \"\" and not os.path.exists(dir_path):\n",
    "        os.makedirs(dir_path)"
   ]
  },
  {
   "cell_type": "markdown",
   "metadata": {},
   "source": [
    "* *Создадим функцию для создания тестировочного файла*"
   ]
  },
  {
   "cell_type": "code",
   "execution_count": 5,
   "metadata": {
    "collapsed": true
   },
   "outputs": [],
   "source": [
    "def create_test_file(target_file_path, text):\n",
    "    check_or_create_target_dir(target_file_path)\n",
    "\n",
    "    with open(target_file_path, 'w') as target_file:\n",
    "        target_file.write(text)"
   ]
  },
  {
   "cell_type": "markdown",
   "metadata": {},
   "source": [
    "* *Функция для копирования файла*"
   ]
  },
  {
   "cell_type": "code",
   "execution_count": 6,
   "metadata": {
    "collapsed": true
   },
   "outputs": [],
   "source": [
    "def copy_file(source_path, target_path):\n",
    "    if os.path.exists(source_path):\n",
    "        with open(source_path, 'r') as fileIn:\n",
    "\n",
    "            check_or_create_target_dir(target_path)\n",
    "\n",
    "            with open(target_path, 'w') as fileOut:\n",
    "                fileOut.write(fileIn.read())\n",
    "    else:\n",
    "        print \"This source_path doesn't exist\""
   ]
  },
  {
   "cell_type": "markdown",
   "metadata": {},
   "source": [
    "* *Опциональное усложнение*"
   ]
  },
  {
   "cell_type": "code",
   "execution_count": 7,
   "metadata": {
    "collapsed": true
   },
   "outputs": [],
   "source": [
    "def copy_file_2(source_path, target_path):\n",
    "    if os.path.exists(source_path):\n",
    "        with open(source_path, 'r') as fileIn:\n",
    "\n",
    "            check_or_create_target_dir(target_path)\n",
    "                \n",
    "            with open(target_path, 'w') as fileOut:\n",
    "                for line in fileIn.xreadlines():\n",
    "                    fileOut.write(line)           \n",
    "    else:\n",
    "        print \"This source_path doesn't exist\""
   ]
  },
  {
   "cell_type": "markdown",
   "metadata": {},
   "source": [
    "* *Тест №1*"
   ]
  },
  {
   "cell_type": "code",
   "execution_count": 8,
   "metadata": {},
   "outputs": [],
   "source": [
    "test1_file_in_path = \"test/test1.in\"\n",
    "test1_file_out_path = \"test/test1/test1.out\"\n",
    "\n",
    "text = \"\"\"Туча\n",
    "\n",
    "Последняя туча рассеянной бури!\n",
    "Одна ты несешся по ясной лазури,\n",
    "Одна ты наводишь унылую тень,\n",
    "Одна ты печалишь ликующий день.\n",
    "\n",
    "Ты небо недавно кругом облегала,\n",
    "И молния грозно тебя обвивала;\n",
    "И ты издавала таинственный гром\n",
    "И алчную землю поила дождем.\n",
    "\n",
    "Довольно, сокройся! Пора миновалась,\n",
    "Земля освежилась, и буря промчалась,\n",
    "И ветер, лаская листочки древес,\n",
    "Тебя с успокоенных гонит небес.\n",
    "\n",
    "1835\n",
    "\"\"\"\n",
    "\n",
    "create_test_file(test1_file_in_path, text)\n",
    "copy_file(test1_file_in_path, test1_file_out_path)"
   ]
  },
  {
   "cell_type": "markdown",
   "metadata": {},
   "source": [
    "* *Тест №2*"
   ]
  },
  {
   "cell_type": "code",
   "execution_count": 9,
   "metadata": {},
   "outputs": [],
   "source": [
    "with open(test1_file_in_path, 'a') as target_file:\n",
    "    for i in range(100):\n",
    "        target_file.write(text)\n",
    "\n",
    "copy_file_2(test1_file_in_path, test1_file_out_path)"
   ]
  },
  {
   "cell_type": "markdown",
   "metadata": {},
   "source": [
    "## Задание 1.2\n",
    "\n",
    "##### В файле source_path находится англо-латинский словарь, то есть список слов на английском языке и их переводы на латинский язык (переводов может быть несколько). Необходимо создать из него латино-английский словарь по пути target_path. Например, из словаря\n",
    "\n",
    "\n",
    "\n",
    "apple - malum, pomum, popula\n",
    "\n",
    "fruit - baca, bacca, popum\n",
    "\n",
    "punishment - malum, multa\n",
    "\n",
    "\n",
    "\n",
    "##### нужно сделать словарь.\n",
    "\n",
    "baca - fruit\n",
    "\n",
    "bacca - fruit\n",
    "\n",
    "malum - apple, punishment\n",
    "\n",
    "multa - punishment\n",
    "\n",
    "pomum - apple\n",
    "\n",
    "popula - apple\n",
    "\n",
    "popum - fruit\n",
    "\n",
    "##### Не забудьте, что слова нужно расположить в алфавитном порядке.\n",
    "##### Будет полезна функция strip у строки для удаления пробелов\n"
   ]
  },
  {
   "cell_type": "code",
   "execution_count": null,
   "metadata": {
    "collapsed": true
   },
   "outputs": [],
   "source": [
    "def eng_lat_2_lat_eng(source_path, target_path):\n",
    "    if os.path.exists(source_path):\n",
    "        with open(source_path, 'r') as fileIn:\n",
    "\n",
    "            lat_eng_dict = dict()\n",
    "\n",
    "            for line in fileIn.xreadlines():\n",
    "                eng_word, lat_translation = line.split(\" - \")\n",
    "                eng_word = eng_word.strip()\n",
    "                lat_translation = [lat_word.strip() for lat_word in lat_translation.split(\",\")]\n",
    "                \n",
    "                for lat_word in lat_translation:\n",
    "                    if lat_word in lat_eng_dict:\n",
    "                        lat_eng_dict[lat_word].append(eng_word)\n",
    "                    else:\n",
    "                        lat_eng_dict[lat_word] = [eng_word]\n",
    "            \n",
    "            check_or_create_target_dir(target_path)\n",
    "                \n",
    "            with open(target_path, 'w') as fileOut:\n",
    "                for key in sorted(lat_eng_dict.keys()):\n",
    "                    fileOut.write(key + ' - ' + ', '.join(sorted(lat_eng_dict[key])) + '\\n')"
   ]
  },
  {
   "cell_type": "markdown",
   "metadata": {},
   "source": [
    "* *Тест*"
   ]
  },
  {
   "cell_type": "code",
   "execution_count": null,
   "metadata": {
    "collapsed": true
   },
   "outputs": [],
   "source": [
    "test2_file_in_path = \"test/test2/test2.in\"\n",
    "test2_file_out_path = \"test/test2/test2/test2.out\"\n",
    "\n",
    "text = \"\"\"apple - malum, pomum, popula\n",
    "fruit - baca, bacca, popum\n",
    "punishment - malum, multa\n",
    "\"\"\"\n",
    "\n",
    "create_test_file(test2_file_in_path, text)\n",
    "copy_file(test2_file_in_path, test2_file_out_path)"
   ]
  },
  {
   "cell_type": "code",
   "execution_count": null,
   "metadata": {},
   "outputs": [],
   "source": [
    "eng_lat_2_lat_eng(test2_file_in_path, test2_file_out_path)"
   ]
  },
  {
   "cell_type": "markdown",
   "metadata": {},
   "source": [
    "## Задание 1.3\n",
    "\n",
    "Напишите функцию, вычисляющую длину русского слова, независимо от его кодировки\n",
    "\n",
    "Если параметр encoding задан, то нужно декодировать текст при помощи этой кодировки. А если он не задан, то кодировку надо определить самостоятельно.\n",
    "\n",
    "##### Если кодировка не задана, то точное решение здесь написать не получится. Но можно воспользоваться функцией my_decoder из лекции"
   ]
  },
  {
   "cell_type": "markdown",
   "metadata": {},
   "source": [
    "* *Функция my_decoder из лекции*"
   ]
  },
  {
   "cell_type": "code",
   "execution_count": null,
   "metadata": {
    "collapsed": true
   },
   "outputs": [],
   "source": [
    "def my_decoder(val):\n",
    "    if type(val) is unicode:\n",
    "        return val\n",
    "    else:\n",
    "        return unicode(val, encoding=chardet.detect(val)['encoding'])"
   ]
  },
  {
   "cell_type": "markdown",
   "metadata": {},
   "source": [
    "* *Функция, вычисляющую длину русского слова*"
   ]
  },
  {
   "cell_type": "code",
   "execution_count": null,
   "metadata": {
    "collapsed": true
   },
   "outputs": [],
   "source": [
    "def my_len(word, encoding=None):\n",
    "    if encoding != None:\n",
    "        return len(unicode(word, encoding=encoding))\n",
    "    else:\n",
    "        return len(my_decoder(word))     "
   ]
  },
  {
   "cell_type": "markdown",
   "metadata": {},
   "source": [
    "* *Тесты*"
   ]
  },
  {
   "cell_type": "code",
   "execution_count": null,
   "metadata": {},
   "outputs": [],
   "source": [
    "my_len('текст') == 5"
   ]
  },
  {
   "cell_type": "code",
   "execution_count": null,
   "metadata": {},
   "outputs": [],
   "source": [
    "my_len(u'текст') == 5"
   ]
  },
  {
   "cell_type": "code",
   "execution_count": null,
   "metadata": {},
   "outputs": [],
   "source": [
    "my_len(u'ааааа'.encode('utf_16'), encoding='utf_16') == 5"
   ]
  },
  {
   "cell_type": "code",
   "execution_count": null,
   "metadata": {},
   "outputs": [],
   "source": [
    "my_len(u'текст'.encode('windows-1251')) == 5"
   ]
  },
  {
   "cell_type": "markdown",
   "metadata": {},
   "source": [
    "# Продвинутый уровень"
   ]
  },
  {
   "cell_type": "markdown",
   "metadata": {},
   "source": [
    "## Задание 2.1\n",
    "\n",
    "Напишите функцию, которая выписывает список файлов в данной директории и сортирует их в соответствии с их размером. Функция должна получать путь к директории в качестве аргумента и печатать на экран имена всех файлов в ней и их размеры, причем первыми должны идти файлы с наибольшими размерами, а в случае одинакового размер файлы сортируются по алфавиту.\n",
    "\n",
    "##### Указание. Изучите функции listdir и stat из модуля os и функции isfile и join из модуля os.path.\n"
   ]
  },
  {
   "cell_type": "markdown",
   "metadata": {},
   "source": [
    "* *Функция, которая выписывает список файлов в данной директории и сортирует их в соответствии с их размером*"
   ]
  },
  {
   "cell_type": "code",
   "execution_count": null,
   "metadata": {},
   "outputs": [],
   "source": [
    "def get_dir_content_info(dir_path):\n",
    "    if os.path.exists(dir_path):  \n",
    "        file_and_size = dict()\n",
    "\n",
    "        for elem in os.listdir(dir_path):\n",
    "            file_path = os.path.join(dir_path, elem)\n",
    "\n",
    "            if os.path.isfile(file_path):\n",
    "                size = os.path.getsize(file_path)\n",
    "\n",
    "                if size in file_and_size:\n",
    "                    file_and_size[size].append(elem)\n",
    "                else:\n",
    "                    file_and_size[size] = [elem]\n",
    "\n",
    "        for key in sorted(file_and_size.keys(), reverse=True):\n",
    "            for value in sorted(file_and_size[key]):\n",
    "                print value + \",\", key, \"byte\""
   ]
  },
  {
   "cell_type": "markdown",
   "metadata": {},
   "source": [
    "* *Тест*"
   ]
  },
  {
   "cell_type": "code",
   "execution_count": null,
   "metadata": {},
   "outputs": [],
   "source": [
    "create_test_file(\"test/a.txt\", \"a-aa-aaa-aaaa\")\n",
    "create_test_file(\"test/b.txt\", \"a-aa-aaa-aaaa-b-bb-bbb-bbbb\")\n",
    "create_test_file(\"test/c.txt\", \"a-aa-aaa-aaaa-b-bb-bbb-bbbb-c-cc-ccc-ccc\")\n",
    "\n",
    "get_dir_content_info(\"test\")"
   ]
  },
  {
   "cell_type": "markdown",
   "metadata": {},
   "source": [
    "## Задание 2.2\n",
    "\n",
    "Аналогично 1.2, но только теперь англо-русский в русско-английский словарь. Дополнительно теперь будет ещё параметр encoding для кодировки файлов. Если он None, то нужно самостоятельно определить кодировку файла.\n",
    "\n",
    "##### Решение будет почти дублировать 1.2, но сначала текст нужно привести в unicode"
   ]
  },
  {
   "cell_type": "code",
   "execution_count": null,
   "metadata": {
    "collapsed": true
   },
   "outputs": [],
   "source": [
    "def my_decoder_pro(val, encoding=None):\n",
    "    if type(val) is unicode:\n",
    "        return val\n",
    "    elif encoding != None:\n",
    "        return unicode(val, encoding=encoding)\n",
    "    else:\n",
    "        return unicode(val, encoding=chardet.detect(val)['encoding'])"
   ]
  },
  {
   "cell_type": "code",
   "execution_count": null,
   "metadata": {},
   "outputs": [],
   "source": [
    "def eng_rus_2_rus_eng(source_path, target_path, encoding=None):\n",
    "    if os.path.exists(source_path):\n",
    "        with open(source_path, 'r') as fileIn:\n",
    "\n",
    "            rus_eng_dict = dict()\n",
    "            eng_rus_dict = fileIn.read()       \n",
    "            eng_rus_dict = my_decoder_pro(eng_rus_dict, encoding)\n",
    "           \n",
    "            for line in eng_rus_dict.split('\\n'):\n",
    "                if len(line) == 0: continue\n",
    "                eng_word, rus_translation = line.split(' - ')\n",
    "                \n",
    "                eng_word = eng_word.strip()\n",
    "                rus_translation = [rus_word.strip() for rus_word in rus_translation.split(\",\")]\n",
    "                \n",
    "                for rus_word in rus_translation:\n",
    "                    if rus_word in rus_eng_dict:\n",
    "                        rus_eng_dict[rus_word].append(eng_word)\n",
    "                    else:\n",
    "                        rus_eng_dict[rus_word] = [eng_word]\n",
    "            \n",
    "            check_or_create_target_dir(target_path)\n",
    "            with open(target_path, 'w') as fileOut:\n",
    "                for key in sorted(rus_eng_dict.keys()):\n",
    "                    out = key + ' - ' + ', '.join(sorted(rus_eng_dict[key])) + '\\n'\n",
    "                    fileOut.write(out.encode('utf-8'))"
   ]
  },
  {
   "cell_type": "code",
   "execution_count": null,
   "metadata": {
    "collapsed": true
   },
   "outputs": [],
   "source": [
    "file_in = \"in_eng.txt\"\n",
    "file_out = \"out.txt\"\n",
    "\n",
    "text = \"\"\"bread - хлеб, помидор, булка\n",
    "cat - кошка, собака, хлеб\n",
    "dog - собака, пёс, кошка\n",
    "\"\"\"\n",
    "\n",
    "with open(file_in, 'w') as f:\n",
    "    f.write(text)"
   ]
  },
  {
   "cell_type": "code",
   "execution_count": null,
   "metadata": {},
   "outputs": [],
   "source": [
    "eng_rus_2_rus_eng(file_in, file_out)"
   ]
  },
  {
   "cell_type": "markdown",
   "metadata": {},
   "source": [
    "# Сложный уровень"
   ]
  },
  {
   "cell_type": "markdown",
   "metadata": {},
   "source": [
    "## Задание 3.1\n",
    "\n",
    "Существует исследование, говорящее о том, что в словах текста можно произвольно переставить буквы (не затрагивая первую и последнюю), и от этого читабельность текста практически не ухудшится. Напишите функцию для проверки этого факта. Ваша функция должна получать на вход какой-нибудь текст (может быть и на русском языке) и переставлять буквы в его словах случайным образом. \n",
    "\n",
    "Если seed None, то буквы переставляются не случайным образом, а сортируются по алфавиту (латинские символы считаем меньше кириллических). Если seed не None, то нужно использовать это seed при инициализации рандома. Сравните результаты.\n",
    "\n",
    "##### будем считать, что текст это последовательность кириллических и латинских символов разделённая пробелом\n",
    "##### вам потребуется модуль random и функции random.seed и random.shuffle\n",
    "##### проверьте результат работы на не юникодовских строчках и объясните результат"
   ]
  },
  {
   "cell_type": "code",
   "execution_count": null,
   "metadata": {
    "collapsed": true
   },
   "outputs": [],
   "source": [
    "import random\n",
    "\n",
    "def text_shuffle(text, seed=None):\n",
    "    if type(text) is str:\n",
    "        text = unicode(text, encoding='utf-8')\n",
    "        \n",
    "    words = text.split(' ')\n",
    "    new_words = []\n",
    "    \n",
    "    for word in words:\n",
    "        if len(word) < 4:\n",
    "            new_word = word\n",
    "        else:\n",
    "            if seed is None:\n",
    "                new_word = word[0] + ''.join(sorted(word[1:-1])) + word[-1]\n",
    "            else:\n",
    "                shuffled = list(word[1:-1])\n",
    "                random.seed(seed)\n",
    "                random.shuffle(shuffled)    \n",
    "                new_word = word[0] + ''.join(shuffled) + word[-1]\n",
    "            \n",
    "        new_words.append(new_word)    \n",
    "    return ' '.join(new_words)"
   ]
  },
  {
   "cell_type": "markdown",
   "metadata": {},
   "source": [
    "* *Тест*"
   ]
  },
  {
   "cell_type": "code",
   "execution_count": null,
   "metadata": {},
   "outputs": [],
   "source": [
    "text = u'''Существует 123 summer line исследование говорящее о том что в словах текста можно произвольно \\\n",
    "переставить буквы не затрагивая первую и последнюю и от этого читабельность текста практически не ухудшится \\\n",
    "Напишите функцию для проверки этого факта Ваша функция должна получать на вход какойнибудь текст может \\\n",
    "быть и на русском языке и переставлять буквы в его словах случайным образом'''\n",
    "\n",
    "print text_shuffle(text)"
   ]
  },
  {
   "cell_type": "code",
   "execution_count": null,
   "metadata": {},
   "outputs": [],
   "source": [
    "text = '''Существует 123 summer line исследование говорящее о том что в словах текста можно произвольно \\\n",
    "переставить буквы не затрагивая первую и последнюю и от этого читабельность текста практически не ухудшится \\\n",
    "Напишите функцию для проверки этого факта Ваша функция должна получать на вход какойнибудь текст может \\\n",
    "быть и на русском языке и переставлять буквы в его словах случайным образом'''\n",
    "\n",
    "print text_shuffle(text)"
   ]
  },
  {
   "cell_type": "markdown",
   "metadata": {},
   "source": [
    "## Задание 3.2\n",
    "\n",
    "Напишите функцию, которая читает два файла построчно (то есть не загружая всё содержимое в память), и записывает в выходной файл результат лексиграфического сравнение срочки из первого файла и из второго (First, Second и Equal по аналогии c предыдущим ДЗ)."
   ]
  },
  {
   "cell_type": "markdown",
   "metadata": {},
   "source": [
    "* *Функция, которая читает два файла построчно и записывает в выходной файл результат лексиграфического сравнение срочек*"
   ]
  },
  {
   "cell_type": "code",
   "execution_count": null,
   "metadata": {
    "collapsed": true
   },
   "outputs": [],
   "source": [
    "def process(fst_source_path, snd_source_path, target_path):\n",
    "    if os.path.exists(fst_source_path) and os.path.exists(snd_source_path):\n",
    "        with open(fst_source_path, 'r') as fst, open(snd_source_path, 'r') as snd:\n",
    "            \n",
    "            check_or_create_target_dir(target_path) \n",
    "                \n",
    "            with open(target_path, 'w') as fileOut:               \n",
    "                for line1, line2 in zip(fst.xreadlines(), snd.xreadlines()):\n",
    "                    if line1 < line2:\n",
    "                        fileOut.write(\"First\\n\")\n",
    "                    elif line1 > line2:\n",
    "                        fileOut.write(\"Second\\n\")\n",
    "                    else:\n",
    "                        fileOut.write(\"Equal\\n\")"
   ]
  },
  {
   "cell_type": "markdown",
   "metadata": {},
   "source": [
    "* *Тест*"
   ]
  },
  {
   "cell_type": "code",
   "execution_count": null,
   "metadata": {},
   "outputs": [],
   "source": [
    "text = \"\"\"a\n",
    "aa\n",
    "cd\n",
    "fr\n",
    "\"\"\"\n",
    "create_test_file(\"test/in1.txt\", text)\n",
    "\n",
    "text = \"\"\"a\n",
    "ab\n",
    "bc\n",
    "fra\n",
    "\"\"\"\n",
    "create_test_file(\"test/in2.txt\", text)\n",
    "\n",
    "process(\"test/in1.txt\", \"test/in2.txt\", \"test/out.txt\")\n",
    "!cat test/out.txt"
   ]
  }
 ],
 "metadata": {
  "anaconda-cloud": {},
  "kernelspec": {
   "display_name": "Python 3",
   "language": "python",
   "name": "python3"
  },
  "language_info": {
   "codemirror_mode": {
    "name": "ipython",
    "version": 3
   },
   "file_extension": ".py",
   "mimetype": "text/x-python",
   "name": "python",
   "nbconvert_exporter": "python",
   "pygments_lexer": "ipython3",
   "version": "3.6.3"
  }
 },
 "nbformat": 4,
 "nbformat_minor": 2
}
